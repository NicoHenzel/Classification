{
 "cells": [
  {
   "attachments": {},
   "cell_type": "markdown",
   "metadata": {},
   "source": [
    "Setup"
   ]
  },
  {
   "cell_type": "code",
   "execution_count": null,
   "metadata": {},
   "outputs": [],
   "source": [
    "import pandas as pd\n",
    "import numpy as np\n",
    "import missingno as mno # needed to visualize missing values. install missingno into conda if import does not work!\n",
    "import altair as alt\n",
    "import seaborn as sns\n",
    "import matplotlib.pyplot as plt\n",
    "import time\n",
    "import datetime\n",
    "import warnings\n",
    "import pyodbc # used for connection to mssql server where data is stored\n",
    "import vegafusion as vf # also needs module vl-convert-python\n",
    "from sklearn.model_selection import train_test_split\n",
    "\n",
    "vf.enable()\n",
    "warnings.simplefilter(action='ignore', category=FutureWarning)\n",
    "alt.data_transformers.disable_max_rows()"
   ]
  },
  {
   "cell_type": "markdown",
   "metadata": {},
   "source": [
    "Read Data"
   ]
  },
  {
   "cell_type": "code",
   "execution_count": null,
   "metadata": {},
   "outputs": [],
   "source": [
    "# establish the connection to mssql server\n",
    "conn = pyodbc.connect('DRIVER={ODBC Driver 17 for SQL Server};'\n",
    "                      'SERVER=rdb.hdm-server.eu;'\n",
    "                      'DATABASE=W22S101;'\n",
    "                      'UID=W22S101;'\n",
    "                      'PWD=81305')\n",
    "\n",
    "# create a cursor from the connection\n",
    "cursor = conn.cursor()\n",
    "\n",
    "# execute a SQL query\n",
    "query = \"SELECT * FROM FinTable\"\n",
    "df_sql = pd.read_sql(query, conn)\n",
    "\n",
    "df_sqlartists=pd.read_sql(\"select * from artists\",conn)\n",
    "# close the connection\n",
    "conn.close()"
   ]
  },
  {
   "cell_type": "code",
   "execution_count": null,
   "metadata": {},
   "outputs": [],
   "source": [
    "df_sql.popularity=df_sql.popularity.astype('int64')"
   ]
  },
  {
   "cell_type": "code",
   "execution_count": null,
   "metadata": {},
   "outputs": [],
   "source": [
    "df_sql"
   ]
  },
  {
   "cell_type": "code",
   "execution_count": null,
   "metadata": {},
   "outputs": [],
   "source": [
    "df_sqlartists"
   ]
  },
  {
   "cell_type": "code",
   "execution_count": null,
   "metadata": {},
   "outputs": [],
   "source": [
    "out = df_sql.join(pd.DataFrame(df_sql['id_artists'].str.findall(',').to_list(), \n",
    "                           index=df_sql.index)\n",
    "              .reindex(columns=range(5))\n",
    "              .rename(columns=lambda x: f'it{x+1}')\n",
    "              )"
   ]
  },
  {
   "cell_type": "code",
   "execution_count": null,
   "metadata": {},
   "outputs": [],
   "source": []
  },
  {
   "cell_type": "code",
   "execution_count": null,
   "metadata": {},
   "outputs": [],
   "source": [
    "out"
   ]
  },
  {
   "attachments": {},
   "cell_type": "markdown",
   "metadata": {},
   "source": [
    "# Data Structure and preparation"
   ]
  },
  {
   "attachments": {},
   "cell_type": "markdown",
   "metadata": {},
   "source": [
    "Prepare Dataset"
   ]
  },
  {
   "cell_type": "code",
   "execution_count": null,
   "metadata": {},
   "outputs": [],
   "source": [
    "# Write first entry of artists back into the column \n",
    "# hoping that the first entry is always the main artist of the song found in the top song dataset\n",
    "df_sql['artists'] = df_sql.artists.apply(lambda x: eval(x)[0])\n",
    "# Add column to identify top songs and label with 1 if position <= 50\n",
    "df_sql['top_song'] = 0\n",
    "df_sql['top_song'][df_sql.popularity >= 85] = 1\n",
    "# change column to category type\n",
    "# df_sql['top_song'] = df_sql['top_song'].astype('int')\n",
    "# change time signature to category\n",
    "df_sql['time_signature'] = df_sql['time_signature'].astype('int')\n",
    "df_sql['time_signature'] = df_sql['time_signature'].astype('category')\n",
    "# change mode to category\n",
    "df_sql['mode'] = df_sql['mode'].astype('int64')\n",
    "df_sql['mode'] = df_sql['mode'].astype('category')\n",
    "# change explicit to category\n",
    "df_sql['explicit'] = df_sql['explicit'].astype('int64')\n",
    "df_sql['explicit'] = df_sql['explicit'].astype('category')\n",
    "# change some feature to int\n",
    "df_sql['popularity'] = df_sql['popularity'].astype('int64')\n",
    "df_sql['duration_ms'] = df_sql['duration_ms'].astype('int64')\n",
    "# change somex features to float\n",
    "df_sql['danceability'] = df_sql['danceability'].astype('float')\n",
    "df_sql['energy'] = df_sql['energy'].astype('float')\n",
    "df_sql['key'] = df_sql['key'].astype('float')\n",
    "df_sql['loudness'] = df_sql['loudness'].astype('float')\n",
    "df_sql['speechiness'] = df_sql['speechiness'].astype('float')\n",
    "df_sql['acousticness'] = df_sql['acousticness'].astype('float')\n",
    "df_sql['valence'] = df_sql['valence'].astype('float')\n",
    "df_sql['instrumentalness'] = df_sql['instrumentalness'].astype('float')\n",
    "df_sql['liveness'] = df_sql['liveness'].astype('float')\n",
    "df_sql['tempo'] = df_sql['tempo'].astype('float')\n",
    "# change track number and disk number to category\n",
    "# drop duplicate columns\n",
    "df_sql = df_sql.drop(['ChartsArtists','ChartsTrackId','ChartsName','Chartsduration','id_artists','release_date'], axis = 1)\n",
    "# change remaining object types to category\n",
    "for col in df_sql.columns:\n",
    "    if df_sql[col].dtype == object:\n",
    "        df_sql[col] = df_sql[col].astype('category')\n",
    "# find duplicate songs by the same song id and remove them from the dataframe\n",
    "duplicateRows = df_sql[df_sql.duplicated(['id'])]\n",
    "df_sql = df_sql.drop(duplicateRows.index)"
   ]
  },
  {
   "cell_type": "code",
   "execution_count": null,
   "metadata": {},
   "outputs": [],
   "source": [
    "df_sql['top_song'].value_counts()"
   ]
  },
  {
   "cell_type": "code",
   "execution_count": null,
   "metadata": {},
   "outputs": [],
   "source": [
    "# show values of mode column\n",
    "df_sql['mode'].value_counts()"
   ]
  },
  {
   "cell_type": "code",
   "execution_count": null,
   "metadata": {},
   "outputs": [],
   "source": [
    "# show values of time signature column\n",
    "df_sql['time_signature'].value_counts()"
   ]
  },
  {
   "cell_type": "code",
   "execution_count": null,
   "metadata": {},
   "outputs": [],
   "source": [
    "pd.options.display.max_rows = None\n",
    "df_sql['ChartsCountry'].value_counts()\n"
   ]
  },
  {
   "attachments": {},
   "cell_type": "markdown",
   "metadata": {},
   "source": [
    "Variable list and data splitting"
   ]
  },
  {
   "cell_type": "code",
   "execution_count": null,
   "metadata": {},
   "outputs": [],
   "source": [
    "# define outcome variable as y_label\n",
    "y_label = 'top_song'\n",
    "# select features\n",
    "features = df_sql.drop(columns=[y_label]).columns.tolist()\n",
    "# create feature data for data splitting\n",
    "X = df_sql[features]\n",
    "# create response for data splitting\n",
    "y = df_sql[y_label]\n",
    "# Data Split\n",
    "X_train, X_test, y_train, y_test = train_test_split(X, y, test_size=0.3, random_state=42)\n",
    "# data training set\n",
    "df_train = pd.DataFrame(X_train.copy())\n",
    "df_train = df_train.join(pd.DataFrame(y_train))"
   ]
  },
  {
   "attachments": {},
   "cell_type": "markdown",
   "metadata": {},
   "source": [
    "# Data Exploration"
   ]
  },
  {
   "cell_type": "code",
   "execution_count": null,
   "metadata": {},
   "outputs": [],
   "source": [
    "df_sql.info()"
   ]
  },
  {
   "cell_type": "code",
   "execution_count": null,
   "metadata": {},
   "outputs": [],
   "source": [
    "df_sql.head()"
   ]
  },
  {
   "cell_type": "code",
   "execution_count": null,
   "metadata": {},
   "outputs": [],
   "source": [
    "df_explore = df_train.copy()\n",
    "\n",
    "list_num = df_explore.select_dtypes(include=[np.number]).columns.to_list()"
   ]
  },
  {
   "attachments": {},
   "cell_type": "markdown",
   "metadata": {},
   "source": [
    "Descriptive Statistics"
   ]
  },
  {
   "cell_type": "code",
   "execution_count": null,
   "metadata": {},
   "outputs": [],
   "source": [
    "df_explore.describe().round(2).T"
   ]
  },
  {
   "cell_type": "code",
   "execution_count": null,
   "metadata": {},
   "outputs": [],
   "source": [
    "q1 = df_explore.quantile(q = 0.25)\n",
    "q3 = df_explore.quantile(q = 0.75)\n",
    "iqr = q3-q1\n",
    "iqr"
   ]
  },
  {
   "cell_type": "code",
   "execution_count": null,
   "metadata": {},
   "outputs": [],
   "source": [
    "# inspect correlation   \n",
    "corr = df_explore.corr()\n",
    "corr.style.background_gradient(cmap='Blues')"
   ]
  },
  {
   "cell_type": "code",
   "execution_count": null,
   "metadata": {},
   "outputs": [],
   "source": [
    "# inspect correlation for first country \n",
    "filter_df = df_explore[df_explore['ChartsCountry'] == 'tr'] \n",
    "filter_df.corrwith(filter_df['top_song'])"
   ]
  },
  {
   "cell_type": "code",
   "execution_count": null,
   "metadata": {},
   "outputs": [],
   "source": [
    "# Make a correlation with top song for every country\n",
    "#def print_corr(df, country):\n",
    "#    filter_df = df[df['ChartsCountry'] == country] \n",
    "#    result = filter_df.corrwith(filter_df['top_song'])\n",
    "#    print(f\"Correlation for {country}: \\n{result}\")\n",
    "\n",
    "#list_ctry = df_explore['ChartsCountry'].to_list()\n",
    "\n",
    "#for country in list_ctry:\n",
    "#    print_corr(df_explore, country)"
   ]
  },
  {
   "attachments": {},
   "cell_type": "markdown",
   "metadata": {},
   "source": [
    "# Dont Run this without filtering the countries first"
   ]
  },
  {
   "cell_type": "code",
   "execution_count": null,
   "metadata": {},
   "outputs": [],
   "source": [
    " # generates alot of output\n",
    " # Make a correlation matrix for every country\n",
    "from IPython.display import display, HTML, Markdown\n",
    "def print_corr_matrix(df, country):\n",
    "    filter_df = df[df['ChartsCountry'] == country] \n",
    "    corr = filter_df.corr()\n",
    "    corr_display = corr.style.background_gradient(cmap='Blues')._repr_html_()\n",
    "    display(HTML(corr_display))\n",
    "    display(Markdown(f\"Correlation matrix for {country}\"))\n",
    "\n",
    "for country in list_ctry:\n",
    "    print_corr_matrix(df_explore, country)\n"
   ]
  },
  {
   "attachments": {},
   "cell_type": "markdown",
   "metadata": {},
   "source": [
    "Visual analysis"
   ]
  },
  {
   "cell_type": "code",
   "execution_count": null,
   "metadata": {},
   "outputs": [],
   "source": [
    "# Make a boxplot for every numerical variable in relation to top song label\n",
    "def print_kde(df, x_var):\n",
    "    #df = df[(df['streams'] < 2000000)]\n",
    "\n",
    "\n",
    "    ax = sns.scatterplot(data=df, \n",
    "            x=x_var,hue=\"top_song\",y=\"popularity\"\n",
    "            )\n",
    "    ax.set_title('Density Plot')\n",
    "    ax.set_xlabel(x_var)\n",
    "    plt.suptitle('')\n",
    "\n",
    "for col in list_num:\n",
    "    print_kde(df_explore, col)\n",
    "    plt.show()\n"
   ]
  },
  {
   "attachments": {},
   "cell_type": "markdown",
   "metadata": {},
   "source": [
    "Top song classification analysis"
   ]
  },
  {
   "cell_type": "code",
   "execution_count": null,
   "metadata": {},
   "outputs": [],
   "source": [
    "# Stacked bar plots for categories mode and explicit in relation to top songs\n",
    "mode = alt.Chart(df_explore).mark_bar().encode(\n",
    "    x=alt.X('count(mode)', stack=\"normalize\"),\n",
    "    y='top_song',\n",
    "    color='mode'\n",
    ")\n",
    "mode.title = 'Percentage of mode per top song'\n",
    "\n",
    "explicit = alt.Chart(df_explore).mark_bar().encode(\n",
    "    x=alt.X('count(explicit)', stack=\"normalize\"),\n",
    "    y='top_song',\n",
    "    color='explicit'\n",
    ")\n",
    "explicit.title = 'Percentage of explicit per top song'\n",
    "\n",
    "# country = alt.Chart(df_explore).mark_bar().encode(\n",
    "#     x=alt.X('count(ChartsCountry)', stack=\"normalize\"),\n",
    "#     y='top_song',\n",
    "#     color='ChartsCountry'\n",
    "# )\n",
    "# country.title = 'Percentage top song per country'\n",
    "\n",
    "chart = alt.vconcat(mode,\n",
    "                    explicit,\n",
    "                    # country\n",
    "                    )\n",
    "\n",
    "chart"
   ]
  },
  {
   "cell_type": "code",
   "execution_count": null,
   "metadata": {},
   "outputs": [],
   "source": [
    "# Make a boxplot for every numerical variable in relation to top song label\n",
    "def print_boxplot(df, y_var):\n",
    "    df = df[(df['instrumentalness'] < 0.2)]\n",
    "    \n",
    "    ax = df.boxplot(column=y_var, by='top_song', showfliers=False)\n",
    "    ax.set_title('Relation to top song label')\n",
    "    ax.set_xlabel('top song')\n",
    "    ax.set_ylabel(y_var)\n",
    "    plt.suptitle('')\n",
    "\n",
    "list_num.append('time_signature')\n",
    "\n",
    "for col in list_num:\n",
    "    print_boxplot(df_explore, col)\n",
    "    plt.show()\n"
   ]
  },
  {
   "attachments": {},
   "cell_type": "markdown",
   "metadata": {},
   "source": [
    "First Results\n",
    "\n",
    "* remove columns with ids for model\n",
    "* keep either year or release date for model\n",
    "* standard scale for numerical values \n",
    "* no outliers (tempo needs to be checked more because values of 0 dont make sense)\n",
    "* Energy and loudness have a strong positive correlation - drop one?\n",
    "* Acousticness and energy as well as loudness correlate moderate to stron negatively - drop one / both?\n",
    "* mode more 0 for top songs, relatively low difference (~10%)\n",
    "* explicit more 1 for top songs, relatively low difference (~2%)\n",
    "* danceability, loudness, duration_ms could have impact on top song\n",
    "* interpret difference box plot year, track number - why is it this different?\n"
   ]
  }
 ],
 "metadata": {
  "kernelspec": {
   "display_name": "stats",
   "language": "python",
   "name": "python3"
  },
  "language_info": {
   "codemirror_mode": {
    "name": "ipython",
    "version": 3
   },
   "file_extension": ".py",
   "mimetype": "text/x-python",
   "name": "python",
   "nbconvert_exporter": "python",
   "pygments_lexer": "ipython3",
   "version": "3.9.15"
  },
  "orig_nbformat": 4,
  "vscode": {
   "interpreter": {
    "hash": "d658152753fb78692284d722f8665069cf1f80281cff06d1f12baef637756857"
   }
  }
 },
 "nbformat": 4,
 "nbformat_minor": 2
}
