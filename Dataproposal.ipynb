{
 "cells": [
  {
   "attachments": {},
   "cell_type": "markdown",
   "metadata": {},
   "source": [
    "# Case 1 (Fokus)"
   ]
  },
  {
   "attachments": {},
   "cell_type": "markdown",
   "metadata": {},
   "source": [
    "# Sven"
   ]
  },
  {
   "attachments": {},
   "cell_type": "markdown",
   "metadata": {},
   "source": [
    "Klassifikation in Top und keine Top Hits  -- Prediction of Klicks "
   ]
  },
  {
   "attachments": {},
   "cell_type": "markdown",
   "metadata": {},
   "source": [
    "https://www.kaggle.com/datasets/paradisejoy/top-hits-spotify-from-20002019\n",
    "\n",
    "https://www.kaggle.com/datasets/rodolfofigueroa/spotify-12m-songs\n",
    "\n",
    "https://www.kaggle.com/datasets/jfreyberg/spotify-chart-data"
   ]
  },
  {
   "attachments": {},
   "cell_type": "markdown",
   "metadata": {},
   "source": [
    "## Literatur:\n",
    "https://ieeexplore.ieee.org/abstract/document/9675998\n",
    "\n",
    "https://arxiv.org/pdf/1908.08609.pdf"
   ]
  },
  {
   "attachments": {},
   "cell_type": "markdown",
   "metadata": {},
   "source": [
    "https://arxiv.org/pdf/2301.07978.pdf\n",
    "\n",
    "https://arxiv.org/pdf/1908.08609.pdf\n",
    "\n",
    "https://scholar.smu.edu/cgi/viewcontent.cgi?article=1204&context=datasciencereview\n",
    "\n",
    "https://www.kaggle.com/code/danielsheen/spotify-song-genre-classification\n",
    "\n",
    "https://d1wqtxts1xzle7.cloudfront.net/81843076/16-libre.pdf?1646666822=&response-content-disposition=inline%3B+filename%3DHitpredict_Predicting_Hit_Songs_Using_Sp.pdf&Expires=1674917417&Signature=Di-pBnKxVZzW3BUShQKiaQoMraTW45Q7~iHQODd8LS25y-taL4dU-8uvB~a3NnCz8Y0uZo~APsbdPT1R5QzWKO~eNPsjWHhx4lBiCpkTvHdGNQ-rdXqdSJ3ZTkuZU3fzay2EWhUEIicakt1U~PAE2uz7zyvCWB38Iuv4BV9esnsmHLE7SusATNgUBilQcwOAHe1FIR8YC~pvLfMz33npPqM0TyXYXN8zHR6x4p3U6HyLIMiFGnGkfkXK2XllW65zuOHkoSHOiHNqeDDjNdb~U-g85qCBmKwlOzuf5jcZDzHsXthmMbKYlGIpHsUF6aCciGA6RsN1AqxRRjN-Wq-j1w__&Key-Pair-Id=APKAJLOHF5GGSLRBV4ZA\n",
    "\n",
    "http://essay.utwente.nl/75422/1/NIJKAMP_BA_IBA.pdf"
   ]
  },
  {
   "attachments": {},
   "cell_type": "markdown",
   "metadata": {},
   "source": [
    "http://www.na-businesspress.com/JMDC/JMDC14-3/8_Al-BeitawiFinal.pdf\n",
    "\n",
    "https://www.nber.org/system/files/working_papers/w24713/w24713.pdf\n",
    "\n",
    "https://cdr.lib.unc.edu/concern/masters_papers/ns064961b\n",
    "\n",
    "https://arxiv.org/pdf/1910.01445.pdf\n",
    "\n",
    "https://ieeexplore.ieee.org/abstract/document/9776765   \n",
    "\n",
    "https://program.ismir2020.net/static/lbd/ISMIR2020-LBD-433-abstract.pdf"
   ]
  },
  {
   "attachments": {},
   "cell_type": "markdown",
   "metadata": {},
   "source": [
    "## Globgliederung (TODO) für Meeting 13.02.23\n",
    "- Rapid Miner Daten Laden und Push / Pull system ausprobieren\n",
    "- Show NaN Distributin, Show Corr and Multicorr, Show Histplot , Boxplots für Streuungsparameter, DF.Describe()\n",
    "- Erstes runterschreiben des Use Cases (Datenquellen, grobe quellenanalyse)"
   ]
  },
  {
   "cell_type": "markdown",
   "metadata": {},
   "source": []
  },
  {
   "attachments": {},
   "cell_type": "markdown",
   "metadata": {},
   "source": [
    "# Usecase2 \n",
    "\n",
    "Overall: Cluster Countries by Economic factors, link with car sales DB and find best selling car (+ fuel) type per Clustered Regional Type\n",
    "\n",
    "\n",
    "\n",
    "Car Sales + Economic Factors\n",
    "\n",
    "https://deepblue.lib.umich.edu/bitstream/handle/2027.42/96442/102925.pdf?sequence=1&isAllowed=y\n",
    "\n",
    "\n",
    "Fuel Type and Vehicle type\n",
    "\n",
    "https://link.springer.com/article/10.1007/s11116-011-9366-5"
   ]
  }
 ],
 "metadata": {
  "kernelspec": {
   "display_name": "Python 3",
   "language": "python",
   "name": "python3"
  },
  "language_info": {
   "name": "python",
   "version": "3.10.9 (tags/v3.10.9:1dd9be6, Dec  6 2022, 20:01:21) [MSC v.1934 64 bit (AMD64)]"
  },
  "orig_nbformat": 4,
  "vscode": {
   "interpreter": {
    "hash": "4d62038eaa19d14f874909d89116ba4f26267702cc83ea840e6653db2c762f59"
   }
  }
 },
 "nbformat": 4,
 "nbformat_minor": 2
}
