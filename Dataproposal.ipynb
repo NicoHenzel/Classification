{
 "cells": [
  {
   "attachments": {},
   "cell_type": "markdown",
   "metadata": {},
   "source": [
    "# Nico\n",
    "\n",
    "Klassifikation auf Basis von sozioökonomischen Faktoren in unterschiedlichen Ländern.\n",
    "\n",
    "Daten:\n",
    "* Sozioökonomische Faktoren pro Land \n",
    "    - https://www.kaggle.com/datasets/santhraul/country-data\n",
    "* Quantifizeriung von Religionsanhängern pro Land (teilweise Info über Geschlecht und ländlich / städtisches Gebiet) \n",
    "    - https://data.un.org/Data.aspx?d=POP&f=tableCode%3a28\n",
    "* Flaggen Datenset, Info über Flagge, Religion, Sprache, Einwohnerzahl pro Land (Stand 1986) \n",
    "    - https://archive.ics.uci.edu/ml/datasets/Flags\n",
    "\n",
    "Ziel:\n",
    "\n",
    "* Option 1: Vorhersage der am meisten vertreten Religionen in einem Land basierend auf sozioöknomischen Faktoren.\n",
    "* Option 2: Clustering der sozioökonomischen Daten und vorhersage der daraus entstehenden Label auf Basis von zusätzlichen Daten (z.B. Religionsangehörigkeit / Flaggenfarben / Sprache des Landes).\n",
    "* Option 3: Einteilung GDP in Klassen und vorhersage der GDP Klassen in Zusammenhang mit Religionsangehörigkeit / Verteilung der Religionen in einem Land\n",
    "\n",
    "Literatur (Auszug):\n",
    "\n",
    "* Option 1 & 2: \n",
    "    - https://onlinelibrary.wiley.com/doi/abs/10.1111/joes.12250\n",
    "    - https://www.jstor.org/stable/1385695\n",
    "    - https://www.jstor.org/stable/1385794\n",
    "* Option 3:\n",
    "    - https://www.proquest.com/openview/e0dbb85e889a1f6d966be2c18e048872/1.pdf?pq-origsite=gscholar&cbl=47546\n",
    "    - https://eml.berkeley.edu/econ/ugrad/theses/eum_wonsub.pdf\n",
    "    - https://www.sciencedirect.com/science/article/abs/pii/S0305750X05000823\n"
   ]
  },
  {
   "attachments": {},
   "cell_type": "markdown",
   "metadata": {},
   "source": [
    "# Sven"
   ]
  },
  {
   "attachments": {},
   "cell_type": "markdown",
   "metadata": {},
   "source": [
    "Klassifikation in Top und keine Top Hits "
   ]
  },
  {
   "attachments": {},
   "cell_type": "markdown",
   "metadata": {},
   "source": [
    "https://www.kaggle.com/datasets/paradisejoy/top-hits-spotify-from-20002019\n",
    "https://www.kaggle.com/datasets/rodolfofigueroa/spotify-12m-songs"
   ]
  },
  {
   "attachments": {},
   "cell_type": "markdown",
   "metadata": {},
   "source": [
    "## Literatur:\n",
    "https://ieeexplore.ieee.org/abstract/document/9675998\n",
    "\n",
    "https://arxiv.org/pdf/1908.08609.pdf"
   ]
  }
 ],
 "metadata": {
  "kernelspec": {
   "display_name": "Python 3",
   "language": "python",
   "name": "python3"
  },
  "language_info": {
   "name": "python",
   "version": "3.10.9 (tags/v3.10.9:1dd9be6, Dec  6 2022, 20:01:21) [MSC v.1934 64 bit (AMD64)]"
  },
  "orig_nbformat": 4,
  "vscode": {
   "interpreter": {
    "hash": "4d62038eaa19d14f874909d89116ba4f26267702cc83ea840e6653db2c762f59"
   }
  }
 },
 "nbformat": 4,
 "nbformat_minor": 2
}
