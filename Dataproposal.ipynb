{
 "cells": [
  {
   "attachments": {},
   "cell_type": "markdown",
   "metadata": {},
   "source": [
    "# Case 1 (Fokus)\n",
    "\n",
    "\n",
    "\n",
    "## Use Case:\n",
    "- Identify Possible top hits per region based on song features\n",
    "\n",
    "Features are:\n",
    "* artist: Name of the Artist.\n",
    "* song: Name of the Track.\n",
    "* duration_ms: Duration of the track in milliseconds.\n",
    "* explicit: The lyrics or content of a song or a music video contain one or more of the criteria which could be considered offensive or unsuitable for children.\n",
    "* year: Release Year of the track.\n",
    "* popularity: The higher the value the more popular the song is.\n",
    "* danceability: Danceability describes how suitable a track is for dancing based on a combination of musical elements including tempo, rhythm stability, beat strength, and overall regularity. A value of 0.0 is least danceable and 1.0 is most danceable.\n",
    "* energy: Energy is a measure from 0.0 to 1.0 and represents a perceptual measure of intensity and activity.\n",
    "* key: The key the track is in. Integers map to pitches using standard Pitch Class notation. E.g. 0 = C, 1 = C♯/D♭, 2 = D, and so on. If no key was detected, the value is -1.\n",
    "* loudness: The overall loudness of a track in decibels (dB). Loudness values are averaged across the entire track and are useful for comparing relative loudness of tracks. Loudness is the quality of a sound that is the primary psychological correlate of physical strength (amplitude). Values typically range between -60 and 0 db.\n",
    "* mode: Mode indicates the modality (major or minor) of a track, the type of scale from which its melodic content is derived. Major is represented by 1 and minor is 0.\n",
    "* speechiness: Speechiness detects the presence of spoken words in a track. The more exclusively speech-like the recording (e.g. talk show, audio book, poetry), the closer to 1.0 the attribute value. Values above 0.66 describe tracks that are probably made entirely of spoken words. Values between 0.33 and 0.66 describe tracks that may contain both music and speech, either in sections or layered, including such cases as rap music. Values below 0.33 most likely represent music and other non-speech-like tracks.\n",
    "* acousticness: A confidence measure from 0.0 to 1.0 of whether the track is acoustic. 1.0 represents high confidence the track is acoustic.\n",
    "* instrumentalness: Predicts whether a track contains no vocals. \"Ooh\" and \"aah\" sounds are treated as instrumental in this context. Rap or spoken word tracks are clearly \"vocal\". The closer the instrumentalness value is to 1.0, the greater likelihood the track contains no vocal content. Values above 0.5 are intended to represent instrumental tracks, but confidence is higher as the value approaches 1.0.\n",
    "* liveness: Detects the presence of an audience in the recording. Higher liveness values represent an increased probability that the track was performed live. A value above 0.8 provides strong likelihood that the track is live.\n",
    "* valence: A measure from 0.0 to 1.0 describing the musical positiveness conveyed by a track. Tracks with high valence sound more positive (e.g. happy, cheerful, euphoric), while tracks with low valence sound more negative (e.g. sad, depressed, angry).\n",
    "* tempo: The overall estimated tempo of a track in beats per minute (BPM). In musical terminology, tempo is the speed or pace of a given piece and derives directly from the average beat duration.\n",
    "* genre: Genre of the track."
   ]
  },
  {
   "attachments": {},
   "cell_type": "markdown",
   "metadata": {},
   "source": [
    "# Sven"
   ]
  },
  {
   "attachments": {},
   "cell_type": "markdown",
   "metadata": {},
   "source": [
    "Klassifikation in Top und keine Top Hits  -- Prediction of Klicks \n",
    "\n",
    "\n",
    "TEST"
   ]
  },
  {
   "attachments": {},
   "cell_type": "markdown",
   "metadata": {},
   "source": [
    "## Literatur:\n",
    "https://ieeexplore.ieee.org/abstract/document/9675998\n",
    "\n",
    "https://arxiv.org/pdf/1908.08609.pdf"
   ]
  },
  {
   "attachments": {},
   "cell_type": "markdown",
   "metadata": {},
   "source": [
    "https://www.kaggle.com/datasets/paradisejoy/top-hits-spotify-from-20002019\n",
    "\n",
    "https://www.kaggle.com/datasets/rodolfofigueroa/spotify-12m-songs\n",
    "\n",
    "https://www.kaggle.com/datasets/jfreyberg/spotify-chart-data"
   ]
  },
  {
   "attachments": {},
   "cell_type": "markdown",
   "metadata": {},
   "source": [
    "https://arxiv.org/pdf/2301.07978.pdf\n",
    "\n",
    "https://arxiv.org/pdf/1908.08609.pdf\n",
    "\n",
    "https://scholar.smu.edu/cgi/viewcontent.cgi?article=1204&context=datasciencereview\n",
    "\n",
    "https://www.kaggle.com/code/danielsheen/spotify-song-genre-classification\n",
    "\n",
    "https://d1wqtxts1xzle7.cloudfront.net/81843076/16-libre.pdf?1646666822=&response-content-disposition=inline%3B+filename%3DHitpredict_Predicting_Hit_Songs_Using_Sp.pdf&Expires=1674917417&Signature=Di-pBnKxVZzW3BUShQKiaQoMraTW45Q7~iHQODd8LS25y-taL4dU-8uvB~a3NnCz8Y0uZo~APsbdPT1R5QzWKO~eNPsjWHhx4lBiCpkTvHdGNQ-rdXqdSJ3ZTkuZU3fzay2EWhUEIicakt1U~PAE2uz7zyvCWB38Iuv4BV9esnsmHLE7SusATNgUBilQcwOAHe1FIR8YC~pvLfMz33npPqM0TyXYXN8zHR6x4p3U6HyLIMiFGnGkfkXK2XllW65zuOHkoSHOiHNqeDDjNdb~U-g85qCBmKwlOzuf5jcZDzHsXthmMbKYlGIpHsUF6aCciGA6RsN1AqxRRjN-Wq-j1w__&Key-Pair-Id=APKAJLOHF5GGSLRBV4ZA\n",
    "\n",
    "http://essay.utwente.nl/75422/1/NIJKAMP_BA_IBA.pdf"
   ]
  },
  {
   "attachments": {},
   "cell_type": "markdown",
   "metadata": {},
   "source": [
    "http://www.na-businesspress.com/JMDC/JMDC14-3/8_Al-BeitawiFinal.pdf\n",
    "\n",
    "https://www.nber.org/system/files/working_papers/w24713/w24713.pdf\n",
    "\n",
    "https://cdr.lib.unc.edu/concern/masters_papers/ns064961b\n",
    "\n",
    "https://arxiv.org/pdf/1910.01445.pdf\n",
    "\n",
    "https://ieeexplore.ieee.org/abstract/document/9776765   \n",
    "\n",
    "https://program.ismir2020.net/static/lbd/ISMIR2020-LBD-433-abstract.pdf"
   ]
  },
  {
   "attachments": {},
   "cell_type": "markdown",
   "metadata": {},
   "source": [
    "## Globgliederung (TODO) für Meeting 13.02.23\n",
    "- Rapid Miner Daten Laden und Push / Pull system ausprobieren\n",
    "- Show NaN Distributin, Show Corr and Multicorr, Show Histplot , Boxplots für Streuungsparameter, DF.Describe()\n",
    "- Erstes runterschreiben des Use Cases (Datenquellen, grobe quellenanalyse)"
   ]
  },
  {
   "cell_type": "markdown",
   "metadata": {},
   "source": []
  },
  {
   "attachments": {},
   "cell_type": "markdown",
   "metadata": {},
   "source": [
    "# Usecase2 \n",
    "\n",
    "Overall: Cluster Countries by Economic factors, link with car sales DB and find best selling car (+ fuel) type per Clustered Regional Type\n",
    "\n",
    "\n",
    "\n",
    "Car Sales + Economic Factors\n",
    "\n",
    "https://deepblue.lib.umich.edu/bitstream/handle/2027.42/96442/102925.pdf?sequence=1&isAllowed=y\n",
    "\n",
    "\n",
    "Fuel Type and Vehicle type\n",
    "\n",
    "https://link.springer.com/article/10.1007/s11116-011-9366-5"
   ]
  }
 ],
 "metadata": {
  "kernelspec": {
   "display_name": "Python 3",
   "language": "python",
   "name": "python3"
  },
  "language_info": {
   "name": "python",
   "version": "3.10.9 (tags/v3.10.9:1dd9be6, Dec  6 2022, 20:01:21) [MSC v.1934 64 bit (AMD64)]"
  },
  "orig_nbformat": 4,
  "vscode": {
   "interpreter": {
    "hash": "4d62038eaa19d14f874909d89116ba4f26267702cc83ea840e6653db2c762f59"
   }
  }
 },
 "nbformat": 4,
 "nbformat_minor": 2
}
