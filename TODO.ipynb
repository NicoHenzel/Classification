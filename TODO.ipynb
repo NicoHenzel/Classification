{
 "cells": [
  {
   "attachments": {},
   "cell_type": "markdown",
   "metadata": {},
   "source": [
    "1. Nico abholen ca.17:00 Uhr Dienstag\n",
    "2. Parameter Tuning bis 25.2.23 14:00 Uhr\n",
    "3. Leo: Binning für FP Growth\n",
    "4. (Test auf Erstes Genre (Pop)) --> Evtl. Ausblick/ Future Steps\n",
    "5. Domain Explo --> Datensätze und Methoden / selected Features\n",
    "6. Sven -> Aufbereiten des Data Engineerings\n",
    "7. Nico -> Data Explo auf Popularity und in Rapid Miner\n",
    "8. 06.03.2023 Deadline\n",
    "9. PPT zusammenstellen"
   ]
  },
  {
   "attachments": {},
   "cell_type": "markdown",
   "metadata": {},
   "source": [
    "4. Sven -> Repo aufräumen\n",
    "5. Sven -> Aufbereiten des Data Engineerings\n",
    "6. Nico -> Data Explo auf Popularity und in Rapid Miner\n",
    "7. Prozessdefinition\n",
    "8. 06.03.2023 Deadline\n",
    "9. PPT zusammenstellen"
   ]
  }
 ],
 "metadata": {
  "kernelspec": {
   "display_name": "Python 3",
   "language": "python",
   "name": "python3"
  },
  "language_info": {
   "codemirror_mode": {
    "name": "ipython",
    "version": 3
   },
   "file_extension": ".py",
   "mimetype": "text/x-python",
   "name": "python",
   "nbconvert_exporter": "python",
   "pygments_lexer": "ipython3",
   "version": "3.10.10"
  },
  "orig_nbformat": 4,
  "vscode": {
   "interpreter": {
    "hash": "4d62038eaa19d14f874909d89116ba4f26267702cc83ea840e6653db2c762f59"
   }
  }
 },
 "nbformat": 4,
 "nbformat_minor": 2
}
